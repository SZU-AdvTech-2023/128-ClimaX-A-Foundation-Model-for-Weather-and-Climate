{
 "cells": [
  {
   "cell_type": "code",
   "execution_count": 1,
   "metadata": {},
   "outputs": [
    {
     "name": "stderr",
     "output_type": "stream",
     "text": [
      "d:\\ProgramData\\Anaconda3\\envs\\climaX\\lib\\site-packages\\tqdm\\auto.py:21: TqdmWarning: IProgress not found. Please update jupyter and ipywidgets. See https://ipywidgets.readthedocs.io/en/stable/user_install.html\n",
      "  from .autonotebook import tqdm as notebook_tqdm\n",
      "d:\\ProgramData\\Anaconda3\\envs\\climaX\\lib\\site-packages\\torchaudio\\backend\\utils.py:62: UserWarning: No audio backend is available.\n",
      "  warnings.warn(\"No audio backend is available.\")\n"
     ]
    }
   ],
   "source": [
    "from autoencoder import AE\n",
    "import torch\n",
    "import tqdm"
   ]
  },
  {
   "cell_type": "code",
   "execution_count": 3,
   "metadata": {},
   "outputs": [
    {
     "data": {
      "text/plain": [
       "<All keys matched successfully>"
      ]
     },
     "execution_count": 3,
     "metadata": {},
     "output_type": "execute_result"
    }
   ],
   "source": [
    "model = AE(c=32)\n",
    "model.load_state_dict(torch.load(r'D:\\Research\\Race\\ClimaX\\best_model_ae_3.pth'))"
   ]
  },
  {
   "cell_type": "code",
   "execution_count": 28,
   "metadata": {},
   "outputs": [
    {
     "name": "stdout",
     "output_type": "stream",
     "text": [
      "Loading pre-trained checkpoint from: D:\\Research\\Race\\ClimaX\\${trainer.default_root_dir}\\checkpoints\\epoch_002.ckpt\n",
      "<All keys matched successfully>\n"
     ]
    }
   ],
   "source": [
    "from climax.KB_construction import KnowledgeBase_Construction\n",
    "kb = KnowledgeBase_Construction()\n",
    "kb.data_loader.setup()\n"
   ]
  },
  {
   "cell_type": "code",
   "execution_count": 29,
   "metadata": {},
   "outputs": [],
   "source": [
    "train_loader = kb.return_AE_data()\n",
    "kb.freeze_Net()"
   ]
  },
  {
   "cell_type": "code",
   "execution_count": 33,
   "metadata": {},
   "outputs": [],
   "source": [
    "def loss_function_SmoothL1(recon_x, x):\n",
    "    smoothl1_loss = F.smooth_l1_loss(recon_x.flatten(), x.flatten())\n",
    "    return smoothl1_loss\n",
    "def test(epoch):\n",
    "    model.eval()\n",
    "    test_loss = 0\n",
    "    with torch.no_grad():\n",
    "        for i, batch in enumerate(train_loader):\n",
    "            data, y, lead_times, variables, out_variables = batch\n",
    "            data = data.to(\"cuda:0\")\n",
    "            data = kb.encoder(data)\n",
    "            print(data)\n",
    "            recon_batch = model(data)\n",
    "            test_loss += loss_function_SmoothL1(recon_batch, data).item()\n",
    "            print(recon_batch)\n",
    "            break\n"
   ]
  },
  {
   "cell_type": "code",
   "execution_count": 23,
   "metadata": {},
   "outputs": [],
   "source": [
    "rand_vector = torch.rand([1, 512, 512, 1024])"
   ]
  },
  {
   "cell_type": "code",
   "execution_count": 24,
   "metadata": {},
   "outputs": [
    {
     "data": {
      "text/plain": [
       "tensor(0.3453, grad_fn=<MseLossBackward0>)"
      ]
     },
     "execution_count": 24,
     "metadata": {},
     "output_type": "execute_result"
    }
   ],
   "source": [
    "model.eval()\n",
    "output = model(rand_vector)\n",
    "\n",
    "from torch.nn import functional as F\n",
    "F.mse_loss(output, rand_vector)\n"
   ]
  },
  {
   "cell_type": "code",
   "execution_count": null,
   "metadata": {},
   "outputs": [],
   "source": []
  },
  {
   "cell_type": "code",
   "execution_count": 32,
   "metadata": {},
   "outputs": [
    {
     "name": "stderr",
     "output_type": "stream",
     "text": [
      "Exception ignored in: <function _MultiProcessingDataLoaderIter.__del__ at 0x00000208D9EF6AF0>\n",
      "Traceback (most recent call last):\n",
      "  File \"d:\\ProgramData\\Anaconda3\\envs\\climaX\\lib\\site-packages\\torch\\utils\\data\\dataloader.py\", line 1510, in __del__\n",
      "    self._shutdown_workers()\n",
      "  File \"d:\\ProgramData\\Anaconda3\\envs\\climaX\\lib\\site-packages\\torch\\utils\\data\\dataloader.py\", line 1474, in _shutdown_workers\n",
      "    w.join(timeout=_utils.MP_STATUS_CHECK_INTERVAL)\n",
      "  File \"d:\\ProgramData\\Anaconda3\\envs\\climaX\\lib\\multiprocessing\\process.py\", line 149, in join\n",
      "    res = self._popen.wait(timeout)\n",
      "  File \"d:\\ProgramData\\Anaconda3\\envs\\climaX\\lib\\multiprocessing\\popen_spawn_win32.py\", line 108, in wait\n",
      "    res = _winapi.WaitForSingleObject(int(self._handle), msecs)\n",
      "KeyboardInterrupt: \n"
     ]
    },
    {
     "ename": "TypeError",
     "evalue": "'module' object is not callable",
     "output_type": "error",
     "traceback": [
      "\u001b[1;31m---------------------------------------------------------------------------\u001b[0m",
      "\u001b[1;31mTypeError\u001b[0m                                 Traceback (most recent call last)",
      "\u001b[1;32md:\\Research\\Race\\ClimaX\\src\\climax\\002.ipynb Cell 7\u001b[0m line \u001b[0;36m6\n\u001b[0;32m      <a href='vscode-notebook-cell:/d%3A/Research/Race/ClimaX/src/climax/002.ipynb#W4sZmlsZQ%3D%3D?line=3'>4</a>\u001b[0m     \u001b[39mreturn\u001b[39;00m smoothl1_loss\n\u001b[0;32m      <a href='vscode-notebook-cell:/d%3A/Research/Race/ClimaX/src/climax/002.ipynb#W4sZmlsZQ%3D%3D?line=4'>5</a>\u001b[0m model\u001b[39m.\u001b[39meval()\n\u001b[1;32m----> <a href='vscode-notebook-cell:/d%3A/Research/Race/ClimaX/src/climax/002.ipynb#W4sZmlsZQ%3D%3D?line=5'>6</a>\u001b[0m \u001b[39mfor\u001b[39;00m batch_idx, batch \u001b[39min\u001b[39;00m tqdm(\u001b[39menumerate\u001b[39;49m(train_loader)):\n\u001b[0;32m      <a href='vscode-notebook-cell:/d%3A/Research/Race/ClimaX/src/climax/002.ipynb#W4sZmlsZQ%3D%3D?line=6'>7</a>\u001b[0m     data, y, lead_times, variables, out_variables \u001b[39m=\u001b[39m batch\n\u001b[0;32m      <a href='vscode-notebook-cell:/d%3A/Research/Race/ClimaX/src/climax/002.ipynb#W4sZmlsZQ%3D%3D?line=7'>8</a>\u001b[0m     data \u001b[39m=\u001b[39m data\u001b[39m.\u001b[39mto(\u001b[39m\"\u001b[39m\u001b[39mcuda:0\u001b[39m\u001b[39m\"\u001b[39m)\n",
      "\u001b[1;31mTypeError\u001b[0m: 'module' object is not callable"
     ]
    }
   ],
   "source": [
    "i = 10\n",
    "def loss_function_SmoothL1(recon_x, x):\n",
    "    smoothl1_loss = F.smooth_l1_loss(recon_x.flatten(), x.flatten())\n",
    "    return smoothl1_loss\n",
    "model.eval()\n",
    "for batch_idx, batch in tqdm(enumerate(train_loader)):\n",
    "    data, y, lead_times, variables, out_variables = batch\n",
    "    data = data.to(\"cuda:0\")\n",
    "    lead_times = lead_times.to(\"cuda:0\")\n",
    "    data = kb.encoder(data, lead_times, variables)\n",
    "    print(data)\n",
    "    recon_batch = model(data)\n",
    "    print(recon_batch)\n",
    "    loss = loss_function_SmoothL1(recon_batch, data)\n",
    "    break"
   ]
  }
 ],
 "metadata": {
  "kernelspec": {
   "display_name": "climaX",
   "language": "python",
   "name": "python3"
  },
  "language_info": {
   "codemirror_mode": {
    "name": "ipython",
    "version": 3
   },
   "file_extension": ".py",
   "mimetype": "text/x-python",
   "name": "python",
   "nbconvert_exporter": "python",
   "pygments_lexer": "ipython3",
   "version": "3.8.16"
  }
 },
 "nbformat": 4,
 "nbformat_minor": 2
}
